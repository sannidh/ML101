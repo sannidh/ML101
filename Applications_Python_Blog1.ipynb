{
 "cells": [
  {
   "cell_type": "code",
   "execution_count": 12,
   "metadata": {},
   "outputs": [
    {
     "name": "stdout",
     "output_type": "stream",
     "text": [
      "[[[1. 1.]\n",
      "  [1. 1.]\n",
      "  [1. 1.]\n",
      "  [1. 1.]]\n",
      "\n",
      " [[1. 1.]\n",
      "  [1. 1.]\n",
      "  [1. 1.]\n",
      "  [1. 1.]]\n",
      "\n",
      " [[1. 1.]\n",
      "  [1. 1.]\n",
      "  [1. 1.]\n",
      "  [1. 1.]]]\n"
     ]
    }
   ],
   "source": [
    "import numpy as np\n",
    "x=np.ones((3,4,2))\n",
    "print(x)"
   ]
  },
  {
   "cell_type": "code",
   "execution_count": 17,
   "metadata": {},
   "outputs": [
    {
     "data": {
      "text/plain": [
       "array([[[29, 21],\n",
       "        [22, 27],\n",
       "        [39, 30],\n",
       "        [32, 27]],\n",
       "\n",
       "       [[23, 20],\n",
       "        [24, 17],\n",
       "        [12, 13],\n",
       "        [32, 24]],\n",
       "\n",
       "       [[39, 34],\n",
       "        [36, 35],\n",
       "        [12, 35],\n",
       "        [31, 11]]])"
      ]
     },
     "execution_count": 17,
     "metadata": {},
     "output_type": "execute_result"
    }
   ],
   "source": [
    "y=np.random.randint(10,40,size=(4,2,3)) #random integer between 10 and 40 with array size 4 x 3 x 2\n",
    "y1=y.reshape(3,4,2)\n",
    "y1"
   ]
  },
  {
   "cell_type": "code",
   "execution_count": 21,
   "metadata": {},
   "outputs": [
    {
     "name": "stdout",
     "output_type": "stream",
     "text": [
      "[[[30. 22.]\n",
      "  [23. 28.]\n",
      "  [40. 31.]\n",
      "  [33. 28.]]\n",
      "\n",
      " [[24. 21.]\n",
      "  [25. 18.]\n",
      "  [13. 14.]\n",
      "  [33. 25.]]\n",
      "\n",
      " [[40. 35.]\n",
      "  [37. 36.]\n",
      "  [13. 36.]\n",
      "  [32. 12.]]]\n",
      "------------\n",
      "[[[30. 24. 40.]\n",
      "  [23. 25. 37.]\n",
      "  [40. 13. 13.]\n",
      "  [33. 33. 32.]]\n",
      "\n",
      " [[22. 21. 35.]\n",
      "  [28. 18. 36.]\n",
      "  [31. 14. 36.]\n",
      "  [28. 25. 12.]]]\n"
     ]
    }
   ],
   "source": [
    "z=x+y1\n",
    "print(z)\n",
    "print('------------')\n",
    "print(z.transpose())"
   ]
  },
  {
   "cell_type": "code",
   "execution_count": 38,
   "metadata": {},
   "outputs": [
    {
     "name": "stdout",
     "output_type": "stream",
     "text": [
      "[[[30. 22.]\n",
      "  [23. 28.]\n",
      "  [40. 31.]\n",
      "  [33. 28.]]\n",
      "\n",
      " [[24. 21.]\n",
      "  [25. 18.]\n",
      "  [13. 14.]\n",
      "  [33. 25.]]\n",
      "\n",
      " [[40. 35.]\n",
      "  [37. 36.]\n",
      "  [13. 36.]\n",
      "  [32. 12.]]]\n",
      "3\n",
      "(3, 4, 2)\n",
      "24\n",
      "float64\n",
      "[[[30.0, 22.0], [23.0, 28.0], [40.0, 31.0], [33.0, 28.0]], [[24.0, 21.0], [25.0, 18.0], [13.0, 14.0], [33.0, 25.0]], [[40.0, 35.0], [37.0, 36.0], [13.0, 36.0], [32.0, 12.0]]]\n",
      "649.0\n",
      "32.0\n",
      "40.0\n"
     ]
    }
   ],
   "source": [
    "print(z)\n",
    "print(z.ndim) #dimension of array or rank of a matrix\n",
    "print(z.shape)#shape of the array\n",
    "print(z.size) #number of elements\n",
    "print(z.dtype)#datatype of elements\n",
    "print(z.tolist())#convert to a list\n",
    "print(z.sum()) #sum of all elements\n",
    "print(z[2][3][0]) #gets the first element in 3rd layer, 4th row and 1st column, indexing starts from 0\n",
    "print(z[2].max())#prints the maximum value in 2nd layer"
   ]
  },
  {
   "cell_type": "markdown",
   "metadata": {},
   "source": [
    "# Import IPLM1.csv "
   ]
  },
  {
   "cell_type": "code",
   "execution_count": 41,
   "metadata": {},
   "outputs": [
    {
     "data": {
      "text/plain": [
       "array([[b'1', b'0.1', b'Kolkata Knight Riders', b'SC Ganguly',\n",
       "        b'BB McCullum', b'P Kumar', b'0', b'1', b'', b''],\n",
       "       [b'1', b'0.2', b'Kolkata Knight Riders', b'BB McCullum',\n",
       "        b'SC Ganguly', b'P Kumar', b'0', b'0', b'', b''],\n",
       "       [b'1', b'0.3', b'Kolkata Knight Riders', b'BB McCullum',\n",
       "        b'SC Ganguly', b'P Kumar', b'0', b'1', b'', b'']], dtype='|S50')"
      ]
     },
     "execution_count": 41,
     "metadata": {},
     "output_type": "execute_result"
    }
   ],
   "source": [
    "path='Documents/IPLM1.csv' # File Path\n",
    "dtype= '|S50' #String data type of 50 length for the numpy array\n",
    "ipl1_array=np.genfromtxt(path,dtype,skip_header=1,delimiter=\",\")\n",
    "ipl1_array[:3]"
   ]
  },
  {
   "cell_type": "markdown",
   "metadata": {},
   "source": [
    "# Count number of unique batsmen having faced a ball, i.e strikers in first innings"
   ]
  },
  {
   "cell_type": "code",
   "execution_count": 58,
   "metadata": {},
   "outputs": [
    {
     "name": "stdout",
     "output_type": "stream",
     "text": [
      "5\n"
     ]
    }
   ],
   "source": [
    "unique_batsmen=set(ipl1_array[ipl1_array[:,0].astype(np.int64)==1][:,3]) # returns a subset of unique batsmen who batted in 1st innings\n",
    "print(len(unique_batsmen))"
   ]
  },
  {
   "cell_type": "markdown",
   "metadata": {},
   "source": [
    "# Find the sum of extras bowled in the 2nd innings (innings=2)"
   ]
  },
  {
   "cell_type": "code",
   "execution_count": 63,
   "metadata": {},
   "outputs": [
    {
     "name": "stdout",
     "output_type": "stream",
     "text": [
      "19\n"
     ]
    }
   ],
   "source": [
    "extras_inn2=ipl1_array[ipl1_array[:,0].astype(np.int64)==2][:,7].astype(np.int64)\n",
    "print(np.sum(extras_inn2))"
   ]
  },
  {
   "cell_type": "markdown",
   "metadata": {},
   "source": [
    "# Find the count of sixes in the first innings "
   ]
  },
  {
   "cell_type": "code",
   "execution_count": 73,
   "metadata": {},
   "outputs": [
    {
     "name": "stdout",
     "output_type": "stream",
     "text": [
      "14\n",
      "14\n"
     ]
    }
   ],
   "source": [
    "sixes_inn1=ipl1_array[(ipl1_array[:,0].astype(np.int64)==1) & (ipl1_array[:,6].astype(np.int64)==6)][:,6].astype(np.int64)\n",
    "print(len(sixes_inn1))\n",
    "print(sixes_inn1.size)"
   ]
  },
  {
   "cell_type": "markdown",
   "metadata": {},
   "source": [
    "# Find the total number of deliveries faced by BB McCullum  and calculate his strike rate \n"
   ]
  },
  {
   "cell_type": "code",
   "execution_count": 87,
   "metadata": {},
   "outputs": [
    {
     "name": "stdout",
     "output_type": "stream",
     "text": [
      "205.19480519480518\n"
     ]
    }
   ],
   "source": [
    "deliv_bbm=ipl1_array[ipl1_array[:,3].astype(np.str)=='BB McCullum'][:,1].astype(np.float64)\n",
    "runs_bbm=ipl1_array[ipl1_array[:,3].astype(np.str)=='BB McCullum'][:,6].astype(np.float64)\n",
    "strike_rate_bbm=np.sum(runs_bbm)/len(deliv_bbm)*100\n",
    "print(strike_rate_bbm)"
   ]
  },
  {
   "cell_type": "code",
   "execution_count": 106,
   "metadata": {},
   "outputs": [
    {
     "data": {
      "image/png": "[encoded data removed]",
      "text/plain": [
       "<Figure size 432x288 with 1 Axes>"
      ]
     },
     "metadata": {},
     "output_type": "display_data"
    }
   ],
   "source": [
    "import matplotlib.pyplot as plt\n",
    "plt.hist(ipl1_array[ipl1_array[:,3].astype(np.str)=='BB McCullum'][:,6].astype(np.float64), color='orange')\n",
    "plt.xlabel('Runs')\n",
    "plt.ylabel('No of times')\n",
    "plt.title('Runs scored by BB McCullum in KKR vs RCB')\n",
    "plt.savefig('BBM_IPL1_hist.jpg')\n",
    "plt.show()\n"
   ]
  },
  {
   "cell_type": "code",
   "execution_count": null,
   "metadata": {},
   "outputs": [],
   "source": []
  }
 ],
 "metadata": {
  "kernelspec": {
   "display_name": "Python 3",
   "language": "python",
   "name": "python3"
  },
  "language_info": {
   "codemirror_mode": {
    "name": "ipython",
    "version": 3
   },
   "file_extension": ".py",
   "mimetype": "text/x-python",
   "name": "python",
   "nbconvert_exporter": "python",
   "pygments_lexer": "ipython3",
   "version": "3.6.5"
  }
 },
 "nbformat": 4,
 "nbformat_minor": 2
}
